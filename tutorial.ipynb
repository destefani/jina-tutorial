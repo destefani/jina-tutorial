{
 "cells": [
  {
   "cell_type": "code",
   "execution_count": 1,
   "metadata": {},
   "outputs": [],
   "source": [
    "from docarray import Document, DocumentArray\n",
    "from jina import Executor, Flow, requests"
   ]
  },
  {
   "cell_type": "code",
   "execution_count": 2,
   "metadata": {},
   "outputs": [],
   "source": [
    "class PreProcImg(Executor):\n",
    "    @requests\n",
    "    async def foo(self, docs: DocumentArray, **kwargs):\n",
    "        for d in docs:\n",
    "            (\n",
    "                d.load_uri_to_image_tensor(200, 200)\n",
    "                .set_image_tensor_normalization()\n",
    "                .set_image_tensor_channel_axis(\n",
    "                    -1, 0\n",
    "                )\n",
    "            )"
   ]
  },
  {
   "cell_type": "code",
   "execution_count": 3,
   "metadata": {},
   "outputs": [],
   "source": [
    "class EmbedImg(Executor):\n",
    "    def __init__(self, **kwargs):\n",
    "        super().__init__(**kwargs)\n",
    "        import torchvision\n",
    "        self.model = torchvision.models.resnet50(pretrained=True)\n"
   ]
  },
  {
   "cell_type": "code",
   "execution_count": 4,
   "metadata": {},
   "outputs": [],
   "source": [
    "class MatchImg(Executor):\n",
    "    _da = DocumentArray()\n",
    "\n",
    "    @requests(on='/index')\n",
    "    async def index(self, docs: DocumentArray, **kwargs):\n",
    "        self._da.extend(docs)\n",
    "        docs.clear()\n",
    "\n",
    "    @requests(on='/search')\n",
    "    async def foo(self, docs: DocumentArray, **kwargs):\n",
    "        docs.match(self._da, limit=9)\n",
    "        del docs[...][:, ('embeding', 'tensor')]"
   ]
  },
  {
   "cell_type": "code",
   "execution_count": 5,
   "metadata": {},
   "outputs": [],
   "source": [
    "f = (\n",
    "    Flow(port=12345)\n",
    "    .add(uses=PreProcImg)\n",
    "    .add(uses=EmbedImg, replicas=3)\n",
    "    .add(uses=MatchImg)\n",
    ")"
   ]
  },
  {
   "cell_type": "code",
   "execution_count": 6,
   "metadata": {},
   "outputs": [
    {
     "data": {
      "text/html": [
       "<pre style=\"white-space:pre;overflow-x:auto;line-height:normal;font-family:Menlo,'DejaVu Sans Mono',consolas,'Courier New',monospace\"><span style=\"color: #808000; text-decoration-color: #808000; font-weight: bold\">UserWarning: install \"ipywidgets\" for Jupyter support</span> <span style=\"color: #000000; text-decoration-color: #000000; font-weight: bold\">(raised from </span>\n",
       "<span style=\"color: #000000; text-decoration-color: #000000; font-weight: bold\">/home/marcelo/miniconda3/envs/jina/lib/python3.8/site-packages/rich/live.py:221)</span>\n",
       "</pre>\n"
      ],
      "text/plain": [
       "\u001b[1;33mUserWarning: install \"ipywidgets\" for Jupyter support\u001b[0m \u001b[1;30m(raised from \u001b[0m\n",
       "\u001b[1;30m/home/marcelo/miniconda3/envs/jina/lib/python3.8/site-packages/rich/live.py:221)\u001b[0m\n"
      ]
     },
     "metadata": {},
     "output_type": "display_data"
    },
    {
     "data": {
      "text/html": [
       "<pre style=\"white-space:pre;overflow-x:auto;line-height:normal;font-family:Menlo,'DejaVu Sans Mono',consolas,'Courier New',monospace\"></pre>\n"
      ],
      "text/plain": []
     },
     "metadata": {},
     "output_type": "display_data"
    },
    {
     "data": {
      "text/html": [
       "<pre style=\"white-space:pre;overflow-x:auto;line-height:normal;font-family:Menlo,'DejaVu Sans Mono',consolas,'Courier New',monospace\">\n",
       "</pre>\n"
      ],
      "text/plain": [
       "\n"
      ]
     },
     "metadata": {},
     "output_type": "display_data"
    }
   ],
   "source": [
    "index_data = DocumentArray.pull('demo-leftda', show_progress=True)"
   ]
  },
  {
   "cell_type": "code",
   "execution_count": 7,
   "metadata": {},
   "outputs": [
    {
     "data": {
      "text/html": [
       "<pre style=\"white-space:pre;overflow-x:auto;line-height:normal;font-family:Menlo,'DejaVu Sans Mono',consolas,'Courier New',monospace\"></pre>\n"
      ],
      "text/plain": [
       "\u001b[?25l"
      ]
     },
     "metadata": {},
     "output_type": "display_data"
    },
    {
     "name": "stderr",
     "output_type": "stream",
     "text": [
      "\u001b[1;33mDeprecationWarning: BILINEAR is deprecated and will be removed in Pillow 10 (2023-07-01). Use Resampling.BILINEAR instead.\u001b[0m \u001b[1;30m(raised from /home/marcelo/miniconda3/envs/jina/lib/python3.8/site-packages/torchvision/transforms/functional.py:222)\u001b[0m\n",
      "\u001b[1;33mDeprecationWarning: BILINEAR is deprecated and will be removed in Pillow 10 (2023-07-01). Use Resampling.BILINEAR instead.\u001b[0m \u001b[1;30m(raised from /home/marcelo/miniconda3/envs/jina/lib/python3.8/site-packages/torchvision/transforms/functional.py:389)\u001b[0m\n",
      "\u001b[1;33mDeprecationWarning: BICUBIC is deprecated and will be removed in Pillow 10 (2023-07-01). Use Resampling.BICUBIC instead.\u001b[0m \u001b[1;30m(raised from /home/marcelo/miniconda3/envs/jina/lib/python3.8/site-packages/torchvision/transforms/functional.py:452)\u001b[0m\n",
      "\u001b[1;33mDeprecationWarning: BILINEAR is deprecated and will be removed in Pillow 10 (2023-07-01). Use Resampling.BILINEAR instead.\u001b[0m \u001b[1;30m(raised from /home/marcelo/miniconda3/envs/jina/lib/python3.8/site-packages/torchvision/transforms/functional.py:222)\u001b[0m\n",
      "\u001b[1;33mDeprecationWarning: NEAREST is deprecated and will be removed in Pillow 10 (2023-07-01). Use Resampling.NEAREST or Dither.NONE instead.\u001b[0m \u001b[1;30m(raised from /home/marcelo/miniconda3/envs/jina/lib/python3.8/site-packages/torchvision/transforms/transforms.py:34)\u001b[0m\n",
      "\u001b[1;33mDeprecationWarning: BILINEAR is deprecated and will be removed in Pillow 10 (2023-07-01). Use Resampling.BILINEAR instead.\u001b[0m \u001b[1;30m(raised from /home/marcelo/miniconda3/envs/jina/lib/python3.8/site-packages/torchvision/transforms/functional.py:389)\u001b[0m\n",
      "\u001b[1;33mDeprecationWarning: BICUBIC is deprecated and will be removed in Pillow 10 (2023-07-01). Use Resampling.BICUBIC instead.\u001b[0m \u001b[1;30m(raised from /home/marcelo/miniconda3/envs/jina/lib/python3.8/site-packages/torchvision/transforms/functional.py:452)\u001b[0m\n",
      "\u001b[1;33mDeprecationWarning: BILINEAR is deprecated and will be removed in Pillow 10 (2023-07-01). Use Resampling.BILINEAR instead.\u001b[0m \u001b[1;30m(raised from /home/marcelo/miniconda3/envs/jina/lib/python3.8/site-packages/torchvision/transforms/transforms.py:35)\u001b[0m\n",
      "\u001b[1;33mDeprecationWarning: NEAREST is deprecated and will be removed in Pillow 10 (2023-07-01). Use Resampling.NEAREST or Dither.NONE instead.\u001b[0m \u001b[1;30m(raised from /home/marcelo/miniconda3/envs/jina/lib/python3.8/site-packages/torchvision/transforms/transforms.py:34)\u001b[0m\n",
      "\u001b[1;33mDeprecationWarning: BICUBIC is deprecated and will be removed in Pillow 10 (2023-07-01). Use Resampling.BICUBIC instead.\u001b[0m \u001b[1;30m(raised from /home/marcelo/miniconda3/envs/jina/lib/python3.8/site-packages/torchvision/transforms/transforms.py:36)\u001b[0m\n",
      "\u001b[1;33mDeprecationWarning: BILINEAR is deprecated and will be removed in Pillow 10 (2023-07-01). Use Resampling.BILINEAR instead.\u001b[0m \u001b[1;30m(raised from /home/marcelo/miniconda3/envs/jina/lib/python3.8/site-packages/torchvision/transforms/transforms.py:35)\u001b[0m\n",
      "\u001b[1;33mDeprecationWarning: BICUBIC is deprecated and will be removed in Pillow 10 (2023-07-01). Use Resampling.BICUBIC instead.\u001b[0m \u001b[1;30m(raised from /home/marcelo/miniconda3/envs/jina/lib/python3.8/site-packages/torchvision/transforms/transforms.py:36)\u001b[0m\n",
      "\u001b[1;33mDeprecationWarning: LANCZOS is deprecated and will be removed in Pillow 10 (2023-07-01). Use Resampling.LANCZOS instead.\u001b[0m \u001b[1;30m(raised from /home/marcelo/miniconda3/envs/jina/lib/python3.8/site-packages/torchvision/transforms/transforms.py:37)\u001b[0m\n",
      "\u001b[1;33mDeprecationWarning: BILINEAR is deprecated and will be removed in Pillow 10 (2023-07-01). Use Resampling.BILINEAR instead.\u001b[0m \u001b[1;30m(raised from /home/marcelo/miniconda3/envs/jina/lib/python3.8/site-packages/torchvision/transforms/functional.py:222)\u001b[0m\n",
      "\u001b[1;33mDeprecationWarning: LANCZOS is deprecated and will be removed in Pillow 10 (2023-07-01). Use Resampling.LANCZOS instead.\u001b[0m \u001b[1;30m(raised from /home/marcelo/miniconda3/envs/jina/lib/python3.8/site-packages/torchvision/transforms/transforms.py:37)\u001b[0m\n",
      "\u001b[1;33mDeprecationWarning: HAMMING is deprecated and will be removed in Pillow 10 (2023-07-01). Use Resampling.HAMMING instead.\u001b[0m \u001b[1;30m(raised from /home/marcelo/miniconda3/envs/jina/lib/python3.8/site-packages/torchvision/transforms/transforms.py:38)\u001b[0m\n",
      "\u001b[1;33mDeprecationWarning: BILINEAR is deprecated and will be removed in Pillow 10 (2023-07-01). Use Resampling.BILINEAR instead.\u001b[0m \u001b[1;30m(raised from /home/marcelo/miniconda3/envs/jina/lib/python3.8/site-packages/torchvision/transforms/functional.py:389)\u001b[0m\n",
      "\u001b[1;33mDeprecationWarning: HAMMING is deprecated and will be removed in Pillow 10 (2023-07-01). Use Resampling.HAMMING instead.\u001b[0m \u001b[1;30m(raised from /home/marcelo/miniconda3/envs/jina/lib/python3.8/site-packages/torchvision/transforms/transforms.py:38)\u001b[0m\n",
      "\u001b[1;33mDeprecationWarning: BOX is deprecated and will be removed in Pillow 10 (2023-07-01). Use Resampling.BOX instead.\u001b[0m \u001b[1;30m(raised from /home/marcelo/miniconda3/envs/jina/lib/python3.8/site-packages/torchvision/transforms/transforms.py:39)\u001b[0m\n",
      "\u001b[1;33mDeprecationWarning: BICUBIC is deprecated and will be removed in Pillow 10 (2023-07-01). Use Resampling.BICUBIC instead.\u001b[0m \u001b[1;30m(raised from /home/marcelo/miniconda3/envs/jina/lib/python3.8/site-packages/torchvision/transforms/functional.py:452)\u001b[0m\n",
      "\u001b[1;33mDeprecationWarning: BOX is deprecated and will be removed in Pillow 10 (2023-07-01). Use Resampling.BOX instead.\u001b[0m \u001b[1;30m(raised from /home/marcelo/miniconda3/envs/jina/lib/python3.8/site-packages/torchvision/transforms/transforms.py:39)\u001b[0m\n",
      "\u001b[1;33mDeprecationWarning: BILINEAR is deprecated and will be removed in Pillow 10 (2023-07-01). Use Resampling.BILINEAR instead.\u001b[0m \u001b[1;30m(raised from /home/marcelo/miniconda3/envs/jina/lib/python3.8/site-packages/torchvision/transforms/transforms.py:194)\u001b[0m\n",
      "\u001b[1;33mDeprecationWarning: NEAREST is deprecated and will be removed in Pillow 10 (2023-07-01). Use Resampling.NEAREST or Dither.NONE instead.\u001b[0m \u001b[1;30m(raised from /home/marcelo/miniconda3/envs/jina/lib/python3.8/site-packages/torchvision/transforms/transforms.py:34)\u001b[0m\n",
      "\u001b[1;33mDeprecationWarning: BILINEAR is deprecated and will be removed in Pillow 10 (2023-07-01). Use Resampling.BILINEAR instead.\u001b[0m \u001b[1;30m(raised from /home/marcelo/miniconda3/envs/jina/lib/python3.8/site-packages/torchvision/transforms/transforms.py:194)\u001b[0m\n",
      "\u001b[1;33mDeprecationWarning: BICUBIC is deprecated and will be removed in Pillow 10 (2023-07-01). Use Resampling.BICUBIC instead.\u001b[0m \u001b[1;30m(raised from /home/marcelo/miniconda3/envs/jina/lib/python3.8/site-packages/torchvision/transforms/transforms.py:555)\u001b[0m\n",
      "\u001b[1;33mDeprecationWarning: BILINEAR is deprecated and will be removed in Pillow 10 (2023-07-01). Use Resampling.BILINEAR instead.\u001b[0m \u001b[1;30m(raised from /home/marcelo/miniconda3/envs/jina/lib/python3.8/site-packages/torchvision/transforms/transforms.py:35)\u001b[0m\n",
      "\u001b[1;33mDeprecationWarning: BICUBIC is deprecated and will be removed in Pillow 10 (2023-07-01). Use Resampling.BICUBIC instead.\u001b[0m \u001b[1;30m(raised from /home/marcelo/miniconda3/envs/jina/lib/python3.8/site-packages/torchvision/transforms/transforms.py:555)\u001b[0m\n",
      "\u001b[1;33mDeprecationWarning: BILINEAR is deprecated and will be removed in Pillow 10 (2023-07-01). Use Resampling.BILINEAR instead.\u001b[0m \u001b[1;30m(raised from /home/marcelo/miniconda3/envs/jina/lib/python3.8/site-packages/torchvision/transforms/transforms.py:622)\u001b[0m\n",
      "\u001b[1;33mDeprecationWarning: BICUBIC is deprecated and will be removed in Pillow 10 (2023-07-01). Use Resampling.BICUBIC instead.\u001b[0m \u001b[1;30m(raised from /home/marcelo/miniconda3/envs/jina/lib/python3.8/site-packages/torchvision/transforms/transforms.py:36)\u001b[0m\n",
      "\u001b[1;33mDeprecationWarning: BILINEAR is deprecated and will be removed in Pillow 10 (2023-07-01). Use Resampling.BILINEAR instead.\u001b[0m \u001b[1;30m(raised from /home/marcelo/miniconda3/envs/jina/lib/python3.8/site-packages/torchvision/transforms/transforms.py:622)\u001b[0m\n",
      "\u001b[1;33mDeprecationWarning: LANCZOS is deprecated and will be removed in Pillow 10 (2023-07-01). Use Resampling.LANCZOS instead.\u001b[0m \u001b[1;30m(raised from /home/marcelo/miniconda3/envs/jina/lib/python3.8/site-packages/torchvision/transforms/transforms.py:37)\u001b[0m\n",
      "\u001b[1;33mDeprecationWarning: HAMMING is deprecated and will be removed in Pillow 10 (2023-07-01). Use Resampling.HAMMING instead.\u001b[0m \u001b[1;30m(raised from /home/marcelo/miniconda3/envs/jina/lib/python3.8/site-packages/torchvision/transforms/transforms.py:38)\u001b[0m\n",
      "\u001b[1;33mDeprecationWarning: BOX is deprecated and will be removed in Pillow 10 (2023-07-01). Use Resampling.BOX instead.\u001b[0m \u001b[1;30m(raised from /home/marcelo/miniconda3/envs/jina/lib/python3.8/site-packages/torchvision/transforms/transforms.py:39)\u001b[0m\n",
      "\u001b[1;33mDeprecationWarning: BILINEAR is deprecated and will be removed in Pillow 10 (2023-07-01). Use Resampling.BILINEAR instead.\u001b[0m \u001b[1;30m(raised from /home/marcelo/miniconda3/envs/jina/lib/python3.8/site-packages/torchvision/transforms/transforms.py:194)\u001b[0m\n",
      "\u001b[1;33mDeprecationWarning: BICUBIC is deprecated and will be removed in Pillow 10 (2023-07-01). Use Resampling.BICUBIC instead.\u001b[0m \u001b[1;30m(raised from /home/marcelo/miniconda3/envs/jina/lib/python3.8/site-packages/torchvision/transforms/transforms.py:555)\u001b[0m\n",
      "\u001b[1;33mDeprecationWarning: BILINEAR is deprecated and will be removed in Pillow 10 (2023-07-01). Use Resampling.BILINEAR instead.\u001b[0m \u001b[1;30m(raised from /home/marcelo/miniconda3/envs/jina/lib/python3.8/site-packages/torchvision/transforms/transforms.py:622)\u001b[0m\n",
      "\u001b[1;33mDeprecationWarning: the imp module is deprecated in favour of importlib; see the module's documentation for alternative uses\u001b[0m \u001b[1;30m(raised from /home/marcelo/miniconda3/envs/jina/lib/python3.8/site-packages/torchvision/io/video.py:2)\u001b[0m\n",
      "\u001b[1;33mDeprecationWarning: the imp module is deprecated in favour of importlib; see the module's documentation for alternative uses\u001b[0m \u001b[1;30m(raised from /home/marcelo/miniconda3/envs/jina/lib/python3.8/site-packages/torchvision/io/video.py:2)\u001b[0m\n",
      "\u001b[1;33mDeprecationWarning: the imp module is deprecated in favour of importlib; see the module's documentation for alternative uses\u001b[0m \u001b[1;30m(raised from /home/marcelo/miniconda3/envs/jina/lib/python3.8/site-packages/torchvision/io/video.py:2)\u001b[0m\n",
      "Downloading: \"https://download.pytorch.org/models/resnet50-19c8e357.pth\" to /home/marcelo/.cache/torch/checkpoints/resnet50-19c8e357.pth\n",
      "Downloading: \"https://download.pytorch.org/models/resnet50-19c8e357.pth\" to /home/marcelo/.cache/torch/checkpoints/resnet50-19c8e357.pth\n",
      "Downloading: \"https://download.pytorch.org/models/resnet50-19c8e357.pth\" to /home/marcelo/.cache/torch/checkpoints/resnet50-19c8e357.pth\n",
      "7.9%IOPub message rate exceeded.\n",
      "The notebook server will temporarily stop sending output\n",
      "to the client in order to avoid crashing it.\n",
      "To change this limit, set the config variable\n",
      "`--NotebookApp.iopub_msg_rate_limit`.\n",
      "\n",
      "Current values:\n",
      "NotebookApp.iopub_msg_rate_limit=1000.0 (msgs/sec)\n",
      "NotebookApp.rate_limit_window=3.0 (secs)\n",
      "\n",
      "24.7%IOPub message rate exceeded.\n",
      "The notebook server will temporarily stop sending output\n",
      "to the client in order to avoid crashing it.\n",
      "To change this limit, set the config variable\n",
      "`--NotebookApp.iopub_msg_rate_limit`.\n",
      "\n",
      "Current values:\n",
      "NotebookApp.iopub_msg_rate_limit=1000.0 (msgs/sec)\n",
      "NotebookApp.rate_limit_window=3.0 (secs)\n",
      "\n",
      "40.6%IOPub message rate exceeded.\n",
      "The notebook server will temporarily stop sending output\n",
      "to the client in order to avoid crashing it.\n",
      "To change this limit, set the config variable\n",
      "`--NotebookApp.iopub_msg_rate_limit`.\n",
      "\n",
      "Current values:\n",
      "NotebookApp.iopub_msg_rate_limit=1000.0 (msgs/sec)\n",
      "NotebookApp.rate_limit_window=3.0 (secs)\n",
      "\n",
      "57.6%IOPub message rate exceeded.\n",
      "The notebook server will temporarily stop sending output\n",
      "to the client in order to avoid crashing it.\n",
      "To change this limit, set the config variable\n",
      "`--NotebookApp.iopub_msg_rate_limit`.\n",
      "\n",
      "Current values:\n",
      "NotebookApp.iopub_msg_rate_limit=1000.0 (msgs/sec)\n",
      "NotebookApp.rate_limit_window=3.0 (secs)\n",
      "\n",
      "60.6%IOPub message rate exceeded.\n",
      "The notebook server will temporarily stop sending output\n",
      "to the client in order to avoid crashing it.\n",
      "To change this limit, set the config variable\n",
      "`--NotebookApp.iopub_msg_rate_limit`.\n",
      "\n",
      "Current values:\n",
      "NotebookApp.iopub_msg_rate_limit=1000.0 (msgs/sec)\n",
      "NotebookApp.rate_limit_window=3.0 (secs)\n",
      "\n",
      "70.7%IOPub message rate exceeded.\n",
      "The notebook server will temporarily stop sending output\n",
      "to the client in order to avoid crashing it.\n",
      "To change this limit, set the config variable\n",
      "`--NotebookApp.iopub_msg_rate_limit`.\n",
      "\n",
      "Current values:\n",
      "NotebookApp.iopub_msg_rate_limit=1000.0 (msgs/sec)\n",
      "NotebookApp.rate_limit_window=3.0 (secs)\n",
      "\n",
      "100.0%\n",
      "83.7%IOPub message rate exceeded.\n",
      "The notebook server will temporarily stop sending output\n",
      "to the client in order to avoid crashing it.\n",
      "To change this limit, set the config variable\n",
      "`--NotebookApp.iopub_msg_rate_limit`.\n",
      "\n",
      "Current values:\n",
      "NotebookApp.iopub_msg_rate_limit=1000.0 (msgs/sec)\n",
      "NotebookApp.rate_limit_window=3.0 (secs)\n",
      "\n",
      "97.9%IOPub message rate exceeded.\n",
      "The notebook server will temporarily stop sending output\n",
      "to the client in order to avoid crashing it.\n",
      "To change this limit, set the config variable\n",
      "`--NotebookApp.iopub_msg_rate_limit`.\n",
      "\n",
      "Current values:\n",
      "NotebookApp.iopub_msg_rate_limit=1000.0 (msgs/sec)\n",
      "NotebookApp.rate_limit_window=3.0 (secs)\n",
      "\n"
     ]
    },
    {
     "data": {
      "text/html": [
       "<pre style=\"white-space:pre;overflow-x:auto;line-height:normal;font-family:Menlo,'DejaVu Sans Mono',consolas,'Courier New',monospace\">\n",
       "\u001b[?25h</pre>\n"
      ],
      "text/plain": [
       "\n",
       "\u001b[?25h"
      ]
     },
     "metadata": {},
     "output_type": "display_data"
    },
    {
     "data": {
      "text/html": [
       "<pre style=\"white-space:pre;overflow-x:auto;line-height:normal;font-family:Menlo,'DejaVu Sans Mono',consolas,'Courier New',monospace\"> 🔗         Protocol                  GRPC   \n",
       " 🏠     Local access         <span style=\"color: #00ff00; text-decoration-color: #00ff00; font-weight: bold; text-decoration: underline\">0.0.0.0</span><span style=\"text-decoration: underline\">:</span><span style=\"color: #008080; text-decoration-color: #008080; font-weight: bold; text-decoration: underline\">12345</span>   \n",
       " 🔒  Private network   <span style=\"color: #00ff00; text-decoration-color: #00ff00; font-weight: bold; text-decoration: underline\">192.168.0.101</span><span style=\"text-decoration: underline\">:</span><span style=\"color: #008080; text-decoration-color: #008080; font-weight: bold; text-decoration: underline\">12345</span>   \n",
       " 🌐   Public address  <span style=\"color: #00ff00; text-decoration-color: #00ff00; font-weight: bold; text-decoration: underline\">88.130.155.133</span><span style=\"text-decoration: underline\">:</span><span style=\"color: #008080; text-decoration-color: #008080; font-weight: bold; text-decoration: underline\">12345</span>   \n",
       "</pre>\n"
      ],
      "text/plain": [
       " 🔗         Protocol                  GRPC   \n",
       " 🏠     Local access         \u001b[1;4;92m0.0.0.0\u001b[0m\u001b[4m:\u001b[0m\u001b[1;4;36m12345\u001b[0m   \n",
       " 🔒  Private network   \u001b[1;4;92m192.168.0.101\u001b[0m\u001b[4m:\u001b[0m\u001b[1;4;36m12345\u001b[0m   \n",
       " 🌐   Public address  \u001b[1;4;92m88.130.155.133\u001b[0m\u001b[4m:\u001b[0m\u001b[1;4;36m12345\u001b[0m   \n"
      ]
     },
     "metadata": {},
     "output_type": "display_data"
    },
    {
     "data": {
      "text/html": [
       "<pre style=\"white-space:pre;overflow-x:auto;line-height:normal;font-family:Menlo,'DejaVu Sans Mono',consolas,'Courier New',monospace\"></pre>\n"
      ],
      "text/plain": [
       "\u001b[?25l"
      ]
     },
     "metadata": {},
     "output_type": "display_data"
    },
    {
     "data": {
      "text/html": [
       "<pre style=\"white-space:pre;overflow-x:auto;line-height:normal;font-family:Menlo,'DejaVu Sans Mono',consolas,'Courier New',monospace\">\n",
       "</pre>\n"
      ],
      "text/plain": [
       "\n",
       "\u001b[?25h"
      ]
     },
     "metadata": {},
     "output_type": "display_data"
    }
   ],
   "source": [
    "with f:\n",
    "    f.post(\n",
    "        '/index',\n",
    "        index_data,\n",
    "        show_progress=True,\n",
    "        request_size=8\n",
    "    )\n",
    "    f.block()"
   ]
  },
  {
   "cell_type": "code",
   "execution_count": null,
   "metadata": {},
   "outputs": [],
   "source": [
    "from jina import Client\n",
    "\n",
    "c = Client(port=12345)\n",
    "print(c.post('/search', index_data[0]['@m']))"
   ]
  },
  {
   "cell_type": "code",
   "execution_count": null,
   "metadata": {},
   "outputs": [],
   "source": [
    "with f:\n",
    "    ...\n",
    "    f.protocol = 'http'\n",
    "    f.block()"
   ]
  },
  {
   "cell_type": "code",
   "execution_count": null,
   "metadata": {},
   "outputs": [],
   "source": []
  }
 ],
 "metadata": {
  "interpreter": {
   "hash": "4554cf8fca1b6be5c741c5e96e96710474fea0fbaa25431f7efd7a335695f4d0"
  },
  "kernelspec": {
   "display_name": "Python 3.8.13 ('jina')",
   "language": "python",
   "name": "python3"
  },
  "language_info": {
   "codemirror_mode": {
    "name": "ipython",
    "version": 3
   },
   "file_extension": ".py",
   "mimetype": "text/x-python",
   "name": "python",
   "nbconvert_exporter": "python",
   "pygments_lexer": "ipython3",
   "version": "3.8.13"
  },
  "orig_nbformat": 4
 },
 "nbformat": 4,
 "nbformat_minor": 2
}
